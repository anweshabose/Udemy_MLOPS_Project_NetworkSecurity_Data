{
 "cells": [
  {
   "cell_type": "code",
   "execution_count": 1,
   "id": "5dd2b8ba",
   "metadata": {},
   "outputs": [],
   "source": [
    "# Here i have nt made any environment seperately for this project. But one shd make environment before making any project.\n",
    "# In terminal, conda activate \"d:\\Udemy\\Complete_DSMLDLNLP_Bootcamp\\Python\\venv\"\n",
    "# If needed, use code: conda deactivate\n",
    "# pip install -r Requirements.txt # make sure not to install -e ."
   ]
  },
  {
   "cell_type": "code",
   "execution_count": null,
   "id": "5e1d1451",
   "metadata": {},
   "outputs": [],
   "source": [
    "# 1. Initialize Git (if not already initialized)\n",
    "#git init\n",
    "\n",
    "# 2. Add your remote repository\n",
    "#git remote add origin https://github.com/anweshabose/Udemy_MLOPS_Project_Network_Security.git\n",
    "\n",
    "# 3. Stage the files you want to commit\n",
    "#git add .\n",
    "\n",
    "# 4. Commit the changes with a message\n",
    "#git commit -m \"Add initial files\"\n",
    "\n",
    "# 5. Push the changes to GitHub (set upstream on first push)\n",
    "#git push -u origin main"
   ]
  },
  {
   "cell_type": "code",
   "execution_count": null,
   "id": "43479aa2",
   "metadata": {},
   "outputs": [],
   "source": []
  }
 ],
 "metadata": {
  "kernelspec": {
   "display_name": "Python 3",
   "language": "python",
   "name": "python3"
  },
  "language_info": {
   "codemirror_mode": {
    "name": "ipython",
    "version": 3
   },
   "file_extension": ".py",
   "mimetype": "text/x-python",
   "name": "python",
   "nbconvert_exporter": "python",
   "pygments_lexer": "ipython3",
   "version": "3.10.0"
  }
 },
 "nbformat": 4,
 "nbformat_minor": 5
}
