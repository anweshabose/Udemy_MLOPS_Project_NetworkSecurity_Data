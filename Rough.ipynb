{
 "cells": [
  {
   "cell_type": "code",
   "execution_count": null,
   "id": "5dd2b8ba",
   "metadata": {},
   "outputs": [],
   "source": [
    "# In terminal, conda activate \"d:\\Udemy\\Complete_DSMLDLNLP_Bootcamp\\Python\\49-End To End MLOPS Project with ETL Pipelines\\venv\"\n",
    "# If needed, use code: conda deactivate\n",
    "# pip install -r requirements.txt # make sure not to install -e ."
   ]
  },
  {
   "cell_type": "code",
   "execution_count": null,
   "id": "43479aa2",
   "metadata": {},
   "outputs": [
    {
     "name": "stdout",
     "output_type": "stream",
     "text": [
      "['python-dotenv', 'pandas', 'numpy', 'pymongo', 'certifi']\n"
     ]
    }
   ],
   "source": [
    "def get_requirements(): # This function will return list of requirements    \n",
    "    try:\n",
    "        with open('requirements.txt','r') as file:\n",
    "            requirements = file.readlines()\n",
    "            requirements_lst = [i.replace(\"\\n\", \"\") for i in requirements]\n",
    "            if \"-e .\" in requirements_lst:\n",
    "                requirements_lst.remove(\"-e .\")\n",
    "    except FileNotFoundError:\n",
    "        print(\"Requirements.txt file not found\")\n",
    "\n",
    "    return requirements_lst\n",
    "\n",
    "print(get_requirements())"
   ]
  },
  {
   "cell_type": "code",
   "execution_count": null,
   "id": "631d45ac",
   "metadata": {},
   "outputs": [],
   "source": [
    "# git init\n",
    "# git branch -M main\n",
    "# git remote add origin https://github.com/anweshabose/Udemy_MLOPS_Project_NetworkSecurity_Data.git\n",
    "# git add .\n",
    "# git commit -m \"committed\"\n",
    "# git push -u origin main"
   ]
  }
 ],
 "metadata": {
  "kernelspec": {
   "display_name": "Python 3",
   "language": "python",
   "name": "python3"
  },
  "language_info": {
   "codemirror_mode": {
    "name": "ipython",
    "version": 3
   },
   "file_extension": ".py",
   "mimetype": "text/x-python",
   "name": "python",
   "nbconvert_exporter": "python",
   "pygments_lexer": "ipython3",
   "version": "3.10.0"
  }
 },
 "nbformat": 4,
 "nbformat_minor": 5
}
